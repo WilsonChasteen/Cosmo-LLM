{
  "cells": [
    {
      "cell_type": "code",
      "execution_count": 2,
      "metadata": {
        "colab": {
          "base_uri": "https://localhost:8080/"
        },
        "id": "nhBMC1D9MTXz",
        "outputId": "28b6e0f6-8d34-4bab-8dda-7fd315064a95"
      },
      "outputs": [
        {
          "name": "stdout",
          "output_type": "stream",
          "text": [
            "fatal: destination path 'Cosmo-LLM' already exists and is not an empty directory.\n"
          ]
        }
      ],
      "source": [
        "!git clone https://github.com/WilsonChasteen/Cosmo-LLM.git"
      ]
    },
    {
      "cell_type": "code",
      "execution_count": 3,
      "metadata": {
        "colab": {
          "base_uri": "https://localhost:8080/"
        },
        "id": "xfAWZoEiMrud",
        "outputId": "9f529ffb-4102-45fc-df5e-dfd5b44c9424"
      },
      "outputs": [
        {
          "name": "stdout",
          "output_type": "stream",
          "text": [
            "/Users/wilsonchasteen/Desktop/cosmoCoderV@/coconut/Cosmo-LLM\n"
          ]
        }
      ],
      "source": [
        "cd Cosmo-LLM"
      ]
    },
    {
      "cell_type": "code",
      "execution_count": 4,
      "metadata": {
        "colab": {
          "base_uri": "https://localhost:8080/"
        },
        "id": "jNju0FxKNJnl",
        "outputId": "2b490b5e-e444-4c1f-b87e-86cee09a4155"
      },
      "outputs": [
        {
          "name": "stdout",
          "output_type": "stream",
          "text": [
            "Collecting torch==2.5.1 (from -r requirements.txt (line 1))\n",
            "  Using cached torch-2.5.1-cp310-none-macosx_11_0_arm64.whl.metadata (28 kB)\n",
            "Collecting numpy==2.1.3 (from -r requirements.txt (line 2))\n",
            "  Using cached numpy-2.1.3-cp310-cp310-macosx_14_0_arm64.whl.metadata (62 kB)\n",
            "Requirement already satisfied: transformers==4.46.2 in /opt/anaconda3/envs/autotrain/lib/python3.10/site-packages (from -r requirements.txt (line 3)) (4.46.2)\n",
            "Requirement already satisfied: wandb==0.18.7 in /opt/anaconda3/envs/autotrain/lib/python3.10/site-packages (from -r requirements.txt (line 4)) (0.18.7)\n",
            "Requirement already satisfied: datasets==3.1.0 in /opt/anaconda3/envs/autotrain/lib/python3.10/site-packages (from -r requirements.txt (line 5)) (3.1.0)\n",
            "Requirement already satisfied: tqdm==4.67.0 in /opt/anaconda3/envs/autotrain/lib/python3.10/site-packages (from -r requirements.txt (line 6)) (4.67.0)\n",
            "Requirement already satisfied: filelock in /opt/anaconda3/envs/autotrain/lib/python3.10/site-packages (from torch==2.5.1->-r requirements.txt (line 1)) (3.17.0)\n",
            "Requirement already satisfied: typing-extensions>=4.8.0 in /opt/anaconda3/envs/autotrain/lib/python3.10/site-packages (from torch==2.5.1->-r requirements.txt (line 1)) (4.12.2)\n",
            "Requirement already satisfied: networkx in /opt/anaconda3/envs/autotrain/lib/python3.10/site-packages (from torch==2.5.1->-r requirements.txt (line 1)) (3.4.2)\n",
            "Requirement already satisfied: jinja2 in /opt/anaconda3/envs/autotrain/lib/python3.10/site-packages (from torch==2.5.1->-r requirements.txt (line 1)) (3.1.5)\n",
            "Requirement already satisfied: fsspec in /opt/anaconda3/envs/autotrain/lib/python3.10/site-packages (from torch==2.5.1->-r requirements.txt (line 1)) (2024.9.0)\n",
            "Requirement already satisfied: sympy==1.13.1 in /opt/anaconda3/envs/autotrain/lib/python3.10/site-packages (from torch==2.5.1->-r requirements.txt (line 1)) (1.13.1)\n",
            "Requirement already satisfied: huggingface-hub<1.0,>=0.23.2 in /opt/anaconda3/envs/autotrain/lib/python3.10/site-packages (from transformers==4.46.2->-r requirements.txt (line 3)) (0.27.0)\n",
            "Requirement already satisfied: packaging>=20.0 in /opt/anaconda3/envs/autotrain/lib/python3.10/site-packages (from transformers==4.46.2->-r requirements.txt (line 3)) (24.2)\n",
            "Requirement already satisfied: pyyaml>=5.1 in /opt/anaconda3/envs/autotrain/lib/python3.10/site-packages (from transformers==4.46.2->-r requirements.txt (line 3)) (6.0.2)\n",
            "Requirement already satisfied: regex!=2019.12.17 in /opt/anaconda3/envs/autotrain/lib/python3.10/site-packages (from transformers==4.46.2->-r requirements.txt (line 3)) (2024.11.6)\n",
            "Requirement already satisfied: requests in /opt/anaconda3/envs/autotrain/lib/python3.10/site-packages (from transformers==4.46.2->-r requirements.txt (line 3)) (2.32.3)\n",
            "Requirement already satisfied: safetensors>=0.4.1 in /opt/anaconda3/envs/autotrain/lib/python3.10/site-packages (from transformers==4.46.2->-r requirements.txt (line 3)) (0.5.2)\n",
            "Requirement already satisfied: tokenizers<0.21,>=0.20 in /opt/anaconda3/envs/autotrain/lib/python3.10/site-packages (from transformers==4.46.2->-r requirements.txt (line 3)) (0.20.3)\n",
            "Requirement already satisfied: click!=8.0.0,>=7.1 in /opt/anaconda3/envs/autotrain/lib/python3.10/site-packages (from wandb==0.18.7->-r requirements.txt (line 4)) (8.1.8)\n",
            "Requirement already satisfied: docker-pycreds>=0.4.0 in /opt/anaconda3/envs/autotrain/lib/python3.10/site-packages (from wandb==0.18.7->-r requirements.txt (line 4)) (0.4.0)\n",
            "Requirement already satisfied: gitpython!=3.1.29,>=1.0.0 in /opt/anaconda3/envs/autotrain/lib/python3.10/site-packages (from wandb==0.18.7->-r requirements.txt (line 4)) (3.1.44)\n",
            "Requirement already satisfied: platformdirs in /opt/anaconda3/envs/autotrain/lib/python3.10/site-packages (from wandb==0.18.7->-r requirements.txt (line 4)) (4.3.7)\n",
            "Requirement already satisfied: protobuf!=4.21.0,!=5.28.0,<6,>=3.19.0 in /opt/anaconda3/envs/autotrain/lib/python3.10/site-packages (from wandb==0.18.7->-r requirements.txt (line 4)) (5.29.3)\n",
            "Requirement already satisfied: psutil>=5.0.0 in /opt/anaconda3/envs/autotrain/lib/python3.10/site-packages (from wandb==0.18.7->-r requirements.txt (line 4)) (5.9.0)\n",
            "Requirement already satisfied: sentry-sdk>=2.0.0 in /opt/anaconda3/envs/autotrain/lib/python3.10/site-packages (from wandb==0.18.7->-r requirements.txt (line 4)) (2.25.1)\n",
            "Requirement already satisfied: setproctitle in /opt/anaconda3/envs/autotrain/lib/python3.10/site-packages (from wandb==0.18.7->-r requirements.txt (line 4)) (1.3.5)\n",
            "Requirement already satisfied: setuptools in /opt/anaconda3/envs/autotrain/lib/python3.10/site-packages (from wandb==0.18.7->-r requirements.txt (line 4)) (75.8.0)\n",
            "Requirement already satisfied: pyarrow>=15.0.0 in /opt/anaconda3/envs/autotrain/lib/python3.10/site-packages (from datasets==3.1.0->-r requirements.txt (line 5)) (19.0.0)\n",
            "Requirement already satisfied: dill<0.3.9,>=0.3.0 in /opt/anaconda3/envs/autotrain/lib/python3.10/site-packages (from datasets==3.1.0->-r requirements.txt (line 5)) (0.3.8)\n",
            "Requirement already satisfied: pandas in /opt/anaconda3/envs/autotrain/lib/python3.10/site-packages (from datasets==3.1.0->-r requirements.txt (line 5)) (2.2.3)\n",
            "Requirement already satisfied: xxhash in /opt/anaconda3/envs/autotrain/lib/python3.10/site-packages (from datasets==3.1.0->-r requirements.txt (line 5)) (3.5.0)\n",
            "Requirement already satisfied: multiprocess<0.70.17 in /opt/anaconda3/envs/autotrain/lib/python3.10/site-packages (from datasets==3.1.0->-r requirements.txt (line 5)) (0.70.16)\n",
            "Requirement already satisfied: aiohttp in /opt/anaconda3/envs/autotrain/lib/python3.10/site-packages (from datasets==3.1.0->-r requirements.txt (line 5)) (3.11.12)\n",
            "Requirement already satisfied: mpmath<1.4,>=1.1.0 in /opt/anaconda3/envs/autotrain/lib/python3.10/site-packages (from sympy==1.13.1->torch==2.5.1->-r requirements.txt (line 1)) (1.3.0)\n",
            "Requirement already satisfied: six>=1.4.0 in /opt/anaconda3/envs/autotrain/lib/python3.10/site-packages (from docker-pycreds>=0.4.0->wandb==0.18.7->-r requirements.txt (line 4)) (1.17.0)\n",
            "Requirement already satisfied: aiohappyeyeballs>=2.3.0 in /opt/anaconda3/envs/autotrain/lib/python3.10/site-packages (from aiohttp->datasets==3.1.0->-r requirements.txt (line 5)) (2.4.6)\n",
            "Requirement already satisfied: aiosignal>=1.1.2 in /opt/anaconda3/envs/autotrain/lib/python3.10/site-packages (from aiohttp->datasets==3.1.0->-r requirements.txt (line 5)) (1.3.2)\n",
            "Requirement already satisfied: async-timeout<6.0,>=4.0 in /opt/anaconda3/envs/autotrain/lib/python3.10/site-packages (from aiohttp->datasets==3.1.0->-r requirements.txt (line 5)) (5.0.1)\n",
            "Requirement already satisfied: attrs>=17.3.0 in /opt/anaconda3/envs/autotrain/lib/python3.10/site-packages (from aiohttp->datasets==3.1.0->-r requirements.txt (line 5)) (25.1.0)\n",
            "Requirement already satisfied: frozenlist>=1.1.1 in /opt/anaconda3/envs/autotrain/lib/python3.10/site-packages (from aiohttp->datasets==3.1.0->-r requirements.txt (line 5)) (1.5.0)\n",
            "Requirement already satisfied: multidict<7.0,>=4.5 in /opt/anaconda3/envs/autotrain/lib/python3.10/site-packages (from aiohttp->datasets==3.1.0->-r requirements.txt (line 5)) (6.1.0)\n",
            "Requirement already satisfied: propcache>=0.2.0 in /opt/anaconda3/envs/autotrain/lib/python3.10/site-packages (from aiohttp->datasets==3.1.0->-r requirements.txt (line 5)) (0.2.1)\n",
            "Requirement already satisfied: yarl<2.0,>=1.17.0 in /opt/anaconda3/envs/autotrain/lib/python3.10/site-packages (from aiohttp->datasets==3.1.0->-r requirements.txt (line 5)) (1.18.3)\n",
            "Requirement already satisfied: gitdb<5,>=4.0.1 in /opt/anaconda3/envs/autotrain/lib/python3.10/site-packages (from gitpython!=3.1.29,>=1.0.0->wandb==0.18.7->-r requirements.txt (line 4)) (4.0.12)\n",
            "Requirement already satisfied: charset-normalizer<4,>=2 in /opt/anaconda3/envs/autotrain/lib/python3.10/site-packages (from requests->transformers==4.46.2->-r requirements.txt (line 3)) (3.4.1)\n",
            "Requirement already satisfied: idna<4,>=2.5 in /opt/anaconda3/envs/autotrain/lib/python3.10/site-packages (from requests->transformers==4.46.2->-r requirements.txt (line 3)) (3.10)\n",
            "Requirement already satisfied: urllib3<3,>=1.21.1 in /opt/anaconda3/envs/autotrain/lib/python3.10/site-packages (from requests->transformers==4.46.2->-r requirements.txt (line 3)) (2.3.0)\n",
            "Requirement already satisfied: certifi>=2017.4.17 in /opt/anaconda3/envs/autotrain/lib/python3.10/site-packages (from requests->transformers==4.46.2->-r requirements.txt (line 3)) (2025.1.31)\n",
            "Requirement already satisfied: MarkupSafe>=2.0 in /opt/anaconda3/envs/autotrain/lib/python3.10/site-packages (from jinja2->torch==2.5.1->-r requirements.txt (line 1)) (3.0.2)\n",
            "Requirement already satisfied: python-dateutil>=2.8.2 in /opt/anaconda3/envs/autotrain/lib/python3.10/site-packages (from pandas->datasets==3.1.0->-r requirements.txt (line 5)) (2.9.0.post0)\n",
            "Requirement already satisfied: pytz>=2020.1 in /opt/anaconda3/envs/autotrain/lib/python3.10/site-packages (from pandas->datasets==3.1.0->-r requirements.txt (line 5)) (2025.1)\n",
            "Requirement already satisfied: tzdata>=2022.7 in /opt/anaconda3/envs/autotrain/lib/python3.10/site-packages (from pandas->datasets==3.1.0->-r requirements.txt (line 5)) (2025.1)\n",
            "Requirement already satisfied: smmap<6,>=3.0.1 in /opt/anaconda3/envs/autotrain/lib/python3.10/site-packages (from gitdb<5,>=4.0.1->gitpython!=3.1.29,>=1.0.0->wandb==0.18.7->-r requirements.txt (line 4)) (5.0.2)\n",
            "Using cached torch-2.5.1-cp310-none-macosx_11_0_arm64.whl (63.9 MB)\n",
            "Using cached numpy-2.1.3-cp310-cp310-macosx_14_0_arm64.whl (5.4 MB)\n",
            "Installing collected packages: numpy, torch\n",
            "  Attempting uninstall: numpy\n",
            "    Found existing installation: numpy 2.0.0\n",
            "    Uninstalling numpy-2.0.0:\n",
            "      Successfully uninstalled numpy-2.0.0\n",
            "  Attempting uninstall: torch\n",
            "    Found existing installation: torch 2.6.0\n",
            "    Uninstalling torch-2.6.0:\n",
            "      Successfully uninstalled torch-2.6.0\n",
            "^C\n"
          ]
        }
      ],
      "source": [
        "!pip install -r requirements.txt"
      ]
    },
    {
      "cell_type": "code",
      "execution_count": null,
      "metadata": {
        "colab": {
          "base_uri": "https://localhost:8080/"
        },
        "id": "VFCWptBkWAN1",
        "outputId": "11395904-d0e7-4929-cd2c-fba90b7f67f4"
      },
      "outputs": [
        {
          "name": "stdout",
          "output_type": "stream",
          "text": [
            "Requirement already satisfied: bitsandbytes in /opt/anaconda3/envs/autotrain/lib/python3.10/site-packages (0.42.0)\n",
            "Requirement already satisfied: scipy in /opt/anaconda3/envs/autotrain/lib/python3.10/site-packages (from bitsandbytes) (1.15.1)\n",
            "Requirement already satisfied: numpy<2.5,>=1.23.5 in /opt/anaconda3/envs/autotrain/lib/python3.10/site-packages (from scipy->bitsandbytes) (2.0.0)\n"
          ]
        }
      ],
      "source": [
        "!pip install -U bitsandbytes"
      ]
    },
    {
      "cell_type": "code",
      "execution_count": null,
      "metadata": {
        "colab": {
          "base_uri": "https://localhost:8080/"
        },
        "id": "OeuB0rX3Pyu2",
        "outputId": "6a59bcb6-b3ed-4ae4-cc2b-6dead5c77346"
      },
      "outputs": [
        {
          "name": "stdout",
          "output_type": "stream",
          "text": [
            "Requirement already satisfied: torchvision in /opt/anaconda3/envs/autotrain/lib/python3.10/site-packages (0.21.0)\n",
            "Requirement already satisfied: numpy in /opt/anaconda3/envs/autotrain/lib/python3.10/site-packages (from torchvision) (2.1.3)\n",
            "Collecting torch==2.6.0 (from torchvision)\n",
            "  Using cached torch-2.6.0-cp310-none-macosx_11_0_arm64.whl.metadata (28 kB)\n",
            "Requirement already satisfied: pillow!=8.3.*,>=5.3.0 in /opt/anaconda3/envs/autotrain/lib/python3.10/site-packages (from torchvision) (11.0.0)\n",
            "Requirement already satisfied: filelock in /opt/anaconda3/envs/autotrain/lib/python3.10/site-packages (from torch==2.6.0->torchvision) (3.17.0)\n",
            "Requirement already satisfied: typing-extensions>=4.10.0 in /opt/anaconda3/envs/autotrain/lib/python3.10/site-packages (from torch==2.6.0->torchvision) (4.12.2)\n",
            "Requirement already satisfied: networkx in /opt/anaconda3/envs/autotrain/lib/python3.10/site-packages (from torch==2.6.0->torchvision) (3.4.2)\n",
            "Requirement already satisfied: jinja2 in /opt/anaconda3/envs/autotrain/lib/python3.10/site-packages (from torch==2.6.0->torchvision) (3.1.5)\n",
            "Requirement already satisfied: fsspec in /opt/anaconda3/envs/autotrain/lib/python3.10/site-packages (from torch==2.6.0->torchvision) (2024.9.0)\n",
            "Requirement already satisfied: sympy==1.13.1 in /opt/anaconda3/envs/autotrain/lib/python3.10/site-packages (from torch==2.6.0->torchvision) (1.13.1)\n",
            "Requirement already satisfied: mpmath<1.4,>=1.1.0 in /opt/anaconda3/envs/autotrain/lib/python3.10/site-packages (from sympy==1.13.1->torch==2.6.0->torchvision) (1.3.0)\n",
            "Requirement already satisfied: MarkupSafe>=2.0 in /opt/anaconda3/envs/autotrain/lib/python3.10/site-packages (from jinja2->torch==2.6.0->torchvision) (3.0.2)\n",
            "Using cached torch-2.6.0-cp310-none-macosx_11_0_arm64.whl (66.5 MB)\n",
            "Installing collected packages: torch\n",
            "  Attempting uninstall: torch\n",
            "    Found existing installation: torch 2.5.1\n",
            "    Uninstalling torch-2.5.1:\n",
            "      Successfully uninstalled torch-2.5.1\n",
            "\u001b[31mERROR: pip's dependency resolver does not currently take into account all the packages that are installed. This behaviour is the source of the following dependency conflicts.\n",
            "autotrain-advanced 0.8.36 requires datasets[vision]~=3.2.0, but you have datasets 3.1.0 which is incompatible.\n",
            "autotrain-advanced 0.8.36 requires tqdm==4.67.1, but you have tqdm 4.67.0 which is incompatible.\n",
            "autotrain-advanced 0.8.36 requires transformers==4.48.0, but you have transformers 4.46.2 which is incompatible.\u001b[0m\u001b[31m\n",
            "\u001b[0mSuccessfully installed torch-2.6.0\n"
          ]
        }
      ],
      "source": [
        "!pip install --upgrade torchvision"
      ]
    },
    {
      "cell_type": "code",
      "execution_count": null,
      "metadata": {},
      "outputs": [
        {
          "name": "stdout",
          "output_type": "stream",
          "text": [
            "Collecting numpy==2\n",
            "  Downloading numpy-2.0.0-cp310-cp310-macosx_14_0_arm64.whl.metadata (60 kB)\n",
            "Downloading numpy-2.0.0-cp310-cp310-macosx_14_0_arm64.whl (5.2 MB)\n",
            "\u001b[2K   \u001b[90m━━━━━━━━━━━━━━━━━━━━━━━━━━━━━━━━━━━━━━━━\u001b[0m \u001b[32m5.2/5.2 MB\u001b[0m \u001b[31m29.4 MB/s\u001b[0m eta \u001b[36m0:00:00\u001b[0m\n",
            "\u001b[?25hInstalling collected packages: numpy\n",
            "  Attempting uninstall: numpy\n",
            "    Found existing installation: numpy 2.1.3\n",
            "    Uninstalling numpy-2.1.3:\n",
            "      Successfully uninstalled numpy-2.1.3\n",
            "\u001b[31mERROR: pip's dependency resolver does not currently take into account all the packages that are installed. This behaviour is the source of the following dependency conflicts.\n",
            "autotrain-advanced 0.8.36 requires datasets[vision]~=3.2.0, but you have datasets 3.1.0 which is incompatible.\n",
            "autotrain-advanced 0.8.36 requires tqdm==4.67.1, but you have tqdm 4.67.0 which is incompatible.\n",
            "autotrain-advanced 0.8.36 requires transformers==4.48.0, but you have transformers 4.46.2 which is incompatible.\u001b[0m\u001b[31m\n",
            "\u001b[0mSuccessfully installed numpy-2.0.0\n"
          ]
        }
      ],
      "source": [
        "!pip install numpy==2"
      ]
    },
    {
      "cell_type": "code",
      "execution_count": null,
      "metadata": {
        "colab": {
          "base_uri": "https://localhost:8080/"
        },
        "id": "JXYKSD-VNekO",
        "outputId": "2444f2c2-0975-4f2b-89d3-f83a9cbf33d8"
      },
      "outputs": [
        {
          "name": "stdout",
          "output_type": "stream",
          "text": [
            "--2025-04-09 22:33:53--  https://media.githubusercontent.com/media/da03/Internalize_CoT_Step_by_Step/e06a32ee5e4cd117171daeb4755d2a97ece62761/data/gsm8k/train.txt\n",
            "Resolving media.githubusercontent.com (media.githubusercontent.com)... 185.199.109.133, 185.199.110.133, 185.199.111.133, ...\n",
            "Connecting to media.githubusercontent.com (media.githubusercontent.com)|185.199.109.133|:443... connected.\n",
            "HTTP request sent, awaiting response... 200 OK\n",
            "Length: 87805358 (84M) [text/plain]\n",
            "Saving to: ‘data/gsm_train.txt’\n",
            "\n",
            "data/gsm_train.txt  100%[===================>]  83.74M  17.8MB/s    in 4.1s    \n",
            "\n",
            "2025-04-09 22:33:57 (20.5 MB/s) - ‘data/gsm_train.txt’ saved [87805358/87805358]\n",
            "\n",
            "--2025-04-09 22:33:57--  https://raw.githubusercontent.com/da03/Internalize_CoT_Step_by_Step/e06a32ee5e4cd117171daeb4755d2a97ece62761/data/gsm8k/valid.txt\n",
            "Resolving raw.githubusercontent.com (raw.githubusercontent.com)... 185.199.110.133, 185.199.111.133, 185.199.108.133, ...\n",
            "Connecting to raw.githubusercontent.com (raw.githubusercontent.com)|185.199.110.133|:443... connected.\n",
            "HTTP request sent, awaiting response... 200 OK\n",
            "Length: 143419 (140K) [text/plain]\n",
            "Saving to: ‘data/gsm_valid.txt’\n",
            "\n",
            "data/gsm_valid.txt  100%[===================>] 140.06K  --.-KB/s    in 0.05s   \n",
            "\n",
            "2025-04-09 22:33:58 (3.00 MB/s) - ‘data/gsm_valid.txt’ saved [143419/143419]\n",
            "\n",
            "--2025-04-09 22:33:58--  https://raw.githubusercontent.com/da03/Internalize_CoT_Step_by_Step/e06a32ee5e4cd117171daeb4755d2a97ece62761/data/gsm8k/test.txt\n",
            "Resolving raw.githubusercontent.com (raw.githubusercontent.com)... 185.199.111.133, 185.199.108.133, 185.199.110.133, ...\n",
            "Connecting to raw.githubusercontent.com (raw.githubusercontent.com)|185.199.111.133|:443... connected.\n",
            "HTTP request sent, awaiting response... 200 OK\n",
            "Length: 388019 (379K) [text/plain]\n",
            "Saving to: ‘data/gsm_test.txt’\n",
            "\n",
            "data/gsm_test.txt   100%[===================>] 378.92K  --.-KB/s    in 0.07s   \n",
            "\n",
            "2025-04-09 22:33:58 (4.97 MB/s) - ‘data/gsm_test.txt’ saved [388019/388019]\n",
            "\n"
          ]
        }
      ],
      "source": [
        "!bash preprocessing/gsm_icot.bash"
      ]
    },
    {
      "cell_type": "code",
      "execution_count": null,
      "metadata": {},
      "outputs": [
        {
          "name": "stdout",
          "output_type": "stream",
          "text": [
            "\u001b[31mERROR: Could not find a version that satisfies the requirement bitsandbytes==0.45.5 (from versions: 0.31.8, 0.32.0, 0.32.1, 0.32.2, 0.32.3, 0.33.0, 0.33.1, 0.34.0, 0.35.0, 0.35.1, 0.35.2, 0.35.3, 0.35.4, 0.36.0, 0.36.0.post1, 0.36.0.post2, 0.37.0, 0.37.1, 0.37.2, 0.38.0, 0.38.0.post1, 0.38.0.post2, 0.38.1, 0.39.0, 0.39.1, 0.40.0, 0.40.0.post1, 0.40.0.post2, 0.40.0.post3, 0.40.0.post4, 0.40.1, 0.40.1.post1, 0.40.2, 0.41.0, 0.41.1, 0.41.2, 0.41.2.post1, 0.41.2.post2, 0.41.3, 0.41.3.post1, 0.41.3.post2, 0.42.0)\u001b[0m\u001b[31m\n",
            "\u001b[0m\u001b[31mERROR: No matching distribution found for bitsandbytes==0.45.5\u001b[0m\u001b[31m\n",
            "\u001b[0m"
          ]
        }
      ],
      "source": [
        "!pip install bitsandbytes==0.45.5"
      ]
    },
    {
      "cell_type": "code",
      "execution_count": 8,
      "metadata": {},
      "outputs": [
        {
          "name": "stdout",
          "output_type": "stream",
          "text": [
            "Using pip 25.0 from /opt/anaconda3/envs/autotrain/lib/python3.10/site-packages/pip (python 3.10)\n",
            "\u001b[33mWARNING: Ignoring invalid distribution -orch (/opt/anaconda3/envs/autotrain/lib/python3.10/site-packages)\u001b[0m\u001b[33m\n",
            "\u001b[0mCollecting gptqmodel\n",
            "  Using cached gptqmodel-2.2.0.tar.gz (284 kB)\n",
            "  Preparing metadata (setup.py) ... \u001b[?25l  Running command python setup.py egg_info\n",
            "  Traceback (most recent call last):\n",
            "    File \"<string>\", line 2, in <module>\n",
            "    File \"<pip-setuptools-caller>\", line 34, in <module>\n",
            "    File \"/private/var/folders/t4/lqrb6fb1793cc0hfp5sbn0vh0000gn/T/pip-install-hsl50z9n/gptqmodel_4495193620324c4a8db891f4b6191ea2/setup.py\", line 24, in <module>\n",
            "      import torch\n",
            "    File \"/opt/anaconda3/envs/autotrain/lib/python3.10/site-packages/torch/__init__.py\", line 366, in <module>\n",
            "      _load_global_deps()\n",
            "    File \"/opt/anaconda3/envs/autotrain/lib/python3.10/site-packages/torch/__init__.py\", line 322, in _load_global_deps\n",
            "      raise err\n",
            "    File \"/opt/anaconda3/envs/autotrain/lib/python3.10/site-packages/torch/__init__.py\", line 300, in _load_global_deps\n",
            "      ctypes.CDLL(global_deps_lib_path, mode=ctypes.RTLD_GLOBAL)\n",
            "    File \"/opt/anaconda3/envs/autotrain/lib/python3.10/ctypes/__init__.py\", line 374, in __init__\n",
            "      self._handle = _dlopen(self._name, mode)\n",
            "  OSError: dlopen(/opt/anaconda3/envs/autotrain/lib/python3.10/site-packages/torch/lib/libtorch_global_deps.dylib, 0x000A): tried: '/opt/anaconda3/envs/autotrain/lib/python3.10/site-packages/torch/lib/libtorch_global_deps.dylib' (no such file), '/System/Volumes/Preboot/Cryptexes/OS/opt/anaconda3/envs/autotrain/lib/python3.10/site-packages/torch/lib/libtorch_global_deps.dylib' (no such file), '/opt/anaconda3/envs/autotrain/lib/python3.10/site-packages/torch/lib/libtorch_global_deps.dylib' (no such file)\n",
            "  \u001b[1;31merror\u001b[0m: \u001b[1msubprocess-exited-with-error\u001b[0m\n",
            "  \n",
            "  \u001b[31m×\u001b[0m \u001b[32mpython setup.py egg_info\u001b[0m did not run successfully.\n",
            "  \u001b[31m│\u001b[0m exit code: \u001b[1;36m1\u001b[0m\n",
            "  \u001b[31m╰─>\u001b[0m See above for output.\n",
            "  \n",
            "  \u001b[1;35mnote\u001b[0m: This error originates from a subprocess, and is likely not a problem with pip.\n",
            "  \u001b[1;35mfull command\u001b[0m: \u001b[34m/opt/anaconda3/envs/autotrain/bin/python -c '\u001b[0m\n",
            "\u001b[34m  exec(compile('\"'\"''\"'\"''\"'\"'\u001b[0m\n",
            "\u001b[34m  # This is <pip-setuptools-caller> -- a caller that pip uses to run setup.py\u001b[0m\n",
            "\u001b[34m  #\u001b[0m\n",
            "\u001b[34m  # - It imports setuptools before invoking setup.py, to enable projects that directly\u001b[0m\n",
            "\u001b[34m  #   import from `distutils.core` to work with newer packaging standards.\u001b[0m\n",
            "\u001b[34m  # - It provides a clear error message when setuptools is not installed.\u001b[0m\n",
            "\u001b[34m  # - It sets `sys.argv[0]` to the underlying `setup.py`, when invoking `setup.py` so\u001b[0m\n",
            "\u001b[34m  #   setuptools doesn'\"'\"'t think the script is `-c`. This avoids the following warning:\u001b[0m\n",
            "\u001b[34m  #     manifest_maker: standard file '\"'\"'-c'\"'\"' not found\".\u001b[0m\n",
            "\u001b[34m  # - It generates a shim setup.py, for handling setup.cfg-only projects.\u001b[0m\n",
            "\u001b[34m  import os, sys, tokenize\u001b[0m\n",
            "\u001b[34m  \u001b[0m\n",
            "\u001b[34m  try:\u001b[0m\n",
            "\u001b[34m      import setuptools\u001b[0m\n",
            "\u001b[34m  except ImportError as error:\u001b[0m\n",
            "\u001b[34m      print(\u001b[0m\n",
            "\u001b[34m          \"ERROR: Can not execute `setup.py` since setuptools is not available in \"\u001b[0m\n",
            "\u001b[34m          \"the build environment.\",\u001b[0m\n",
            "\u001b[34m          file=sys.stderr,\u001b[0m\n",
            "\u001b[34m      )\u001b[0m\n",
            "\u001b[34m      sys.exit(1)\u001b[0m\n",
            "\u001b[34m  \u001b[0m\n",
            "\u001b[34m  __file__ = %r\u001b[0m\n",
            "\u001b[34m  sys.argv[0] = __file__\u001b[0m\n",
            "\u001b[34m  \u001b[0m\n",
            "\u001b[34m  if os.path.exists(__file__):\u001b[0m\n",
            "\u001b[34m      filename = __file__\u001b[0m\n",
            "\u001b[34m      with tokenize.open(__file__) as f:\u001b[0m\n",
            "\u001b[34m          setup_py_code = f.read()\u001b[0m\n",
            "\u001b[34m  else:\u001b[0m\n",
            "\u001b[34m      filename = \"<auto-generated setuptools caller>\"\u001b[0m\n",
            "\u001b[34m      setup_py_code = \"from setuptools import setup; setup()\"\u001b[0m\n",
            "\u001b[34m  \u001b[0m\n",
            "\u001b[34m  exec(compile(setup_py_code, filename, \"exec\"))\u001b[0m\n",
            "\u001b[34m  '\"'\"''\"'\"''\"'\"' % ('\"'\"'/private/var/folders/t4/lqrb6fb1793cc0hfp5sbn0vh0000gn/T/pip-install-hsl50z9n/gptqmodel_4495193620324c4a8db891f4b6191ea2/setup.py'\"'\"',), \"<pip-setuptools-caller>\", \"exec\"))' egg_info --egg-base /private/var/folders/t4/lqrb6fb1793cc0hfp5sbn0vh0000gn/T/pip-pip-egg-info-1afnay0m\u001b[0m\n",
            "  \u001b[1;35mcwd\u001b[0m: /private/var/folders/t4/lqrb6fb1793cc0hfp5sbn0vh0000gn/T/pip-install-hsl50z9n/gptqmodel_4495193620324c4a8db891f4b6191ea2/\n",
            "\u001b[?25herror\n",
            "\u001b[1;31merror\u001b[0m: \u001b[1mmetadata-generation-failed\u001b[0m\n",
            "\n",
            "\u001b[31m×\u001b[0m Encountered error while generating package metadata.\n",
            "\u001b[31m╰─>\u001b[0m See above for output.\n",
            "\n",
            "\u001b[1;35mnote\u001b[0m: This is an issue with the package mentioned above, not pip.\n",
            "\u001b[1;36mhint\u001b[0m: See above for details.\n"
          ]
        }
      ],
      "source": [
        "!pip install -v gptqmodel --no-build-isolation"
      ]
    },
    {
      "cell_type": "code",
      "execution_count": 12,
      "metadata": {},
      "outputs": [
        {
          "name": "stdout",
          "output_type": "stream",
          "text": [
            "\u001b[33mWARNING: Ignoring invalid distribution -orch (/opt/anaconda3/envs/autotrain/lib/python3.10/site-packages)\u001b[0m\u001b[33m\n",
            "\u001b[0mRequirement already satisfied: optimum-quanto in /opt/anaconda3/envs/autotrain/lib/python3.10/site-packages (0.2.7)\n",
            "Requirement already satisfied: accelerate in /opt/anaconda3/envs/autotrain/lib/python3.10/site-packages (1.2.1)\n",
            "Requirement already satisfied: transformers in /opt/anaconda3/envs/autotrain/lib/python3.10/site-packages (4.46.2)\n",
            "Collecting torch>=2.6.0 (from optimum-quanto)\n",
            "  Using cached torch-2.6.0-cp310-none-macosx_11_0_arm64.whl.metadata (28 kB)\n",
            "Requirement already satisfied: ninja in /opt/anaconda3/envs/autotrain/lib/python3.10/site-packages (from optimum-quanto) (1.11.1.4)\n",
            "Requirement already satisfied: numpy in /opt/anaconda3/envs/autotrain/lib/python3.10/site-packages (from optimum-quanto) (2.1.3)\n",
            "Requirement already satisfied: safetensors in /opt/anaconda3/envs/autotrain/lib/python3.10/site-packages (from optimum-quanto) (0.5.2)\n",
            "Requirement already satisfied: huggingface_hub in /opt/anaconda3/envs/autotrain/lib/python3.10/site-packages (from optimum-quanto) (0.27.0)\n",
            "Requirement already satisfied: packaging>=20.0 in /opt/anaconda3/envs/autotrain/lib/python3.10/site-packages (from accelerate) (24.2)\n",
            "Requirement already satisfied: psutil in /opt/anaconda3/envs/autotrain/lib/python3.10/site-packages (from accelerate) (5.9.0)\n",
            "Requirement already satisfied: pyyaml in /opt/anaconda3/envs/autotrain/lib/python3.10/site-packages (from accelerate) (6.0.2)\n",
            "Requirement already satisfied: filelock in /opt/anaconda3/envs/autotrain/lib/python3.10/site-packages (from transformers) (3.17.0)\n",
            "Requirement already satisfied: regex!=2019.12.17 in /opt/anaconda3/envs/autotrain/lib/python3.10/site-packages (from transformers) (2024.11.6)\n",
            "Requirement already satisfied: requests in /opt/anaconda3/envs/autotrain/lib/python3.10/site-packages (from transformers) (2.32.3)\n",
            "Requirement already satisfied: tokenizers<0.21,>=0.20 in /opt/anaconda3/envs/autotrain/lib/python3.10/site-packages (from transformers) (0.20.3)\n",
            "Requirement already satisfied: tqdm>=4.27 in /opt/anaconda3/envs/autotrain/lib/python3.10/site-packages (from transformers) (4.67.0)\n",
            "Requirement already satisfied: fsspec>=2023.5.0 in /opt/anaconda3/envs/autotrain/lib/python3.10/site-packages (from huggingface_hub->optimum-quanto) (2024.9.0)\n",
            "Requirement already satisfied: typing-extensions>=3.7.4.3 in /opt/anaconda3/envs/autotrain/lib/python3.10/site-packages (from huggingface_hub->optimum-quanto) (4.12.2)\n",
            "Requirement already satisfied: networkx in /opt/anaconda3/envs/autotrain/lib/python3.10/site-packages (from torch>=2.6.0->optimum-quanto) (3.4.2)\n",
            "Requirement already satisfied: jinja2 in /opt/anaconda3/envs/autotrain/lib/python3.10/site-packages (from torch>=2.6.0->optimum-quanto) (3.1.5)\n",
            "Requirement already satisfied: sympy==1.13.1 in /opt/anaconda3/envs/autotrain/lib/python3.10/site-packages (from torch>=2.6.0->optimum-quanto) (1.13.1)\n",
            "Requirement already satisfied: mpmath<1.4,>=1.1.0 in /opt/anaconda3/envs/autotrain/lib/python3.10/site-packages (from sympy==1.13.1->torch>=2.6.0->optimum-quanto) (1.3.0)\n",
            "Requirement already satisfied: charset-normalizer<4,>=2 in /opt/anaconda3/envs/autotrain/lib/python3.10/site-packages (from requests->transformers) (3.4.1)\n",
            "Requirement already satisfied: idna<4,>=2.5 in /opt/anaconda3/envs/autotrain/lib/python3.10/site-packages (from requests->transformers) (3.10)\n",
            "Requirement already satisfied: urllib3<3,>=1.21.1 in /opt/anaconda3/envs/autotrain/lib/python3.10/site-packages (from requests->transformers) (2.3.0)\n",
            "Requirement already satisfied: certifi>=2017.4.17 in /opt/anaconda3/envs/autotrain/lib/python3.10/site-packages (from requests->transformers) (2025.1.31)\n",
            "Requirement already satisfied: MarkupSafe>=2.0 in /opt/anaconda3/envs/autotrain/lib/python3.10/site-packages (from jinja2->torch>=2.6.0->optimum-quanto) (3.0.2)\n",
            "Using cached torch-2.6.0-cp310-none-macosx_11_0_arm64.whl (66.5 MB)\n",
            "\u001b[33mWARNING: Ignoring invalid distribution -orch (/opt/anaconda3/envs/autotrain/lib/python3.10/site-packages)\u001b[0m\u001b[33m\n",
            "\u001b[0mInstalling collected packages: torch\n",
            "\u001b[33mWARNING: Ignoring invalid distribution -orch (/opt/anaconda3/envs/autotrain/lib/python3.10/site-packages)\u001b[0m\u001b[33m\n",
            "\u001b[0m\u001b[31mERROR: pip's dependency resolver does not currently take into account all the packages that are installed. This behaviour is the source of the following dependency conflicts.\n",
            "autotrain-advanced 0.8.36 requires datasets[vision]~=3.2.0, but you have datasets 3.1.0 which is incompatible.\n",
            "autotrain-advanced 0.8.36 requires tqdm==4.67.1, but you have tqdm 4.67.0 which is incompatible.\n",
            "autotrain-advanced 0.8.36 requires transformers==4.48.0, but you have transformers 4.46.2 which is incompatible.\u001b[0m\u001b[31m\n",
            "\u001b[0mSuccessfully installed torch-2.6.0\n"
          ]
        }
      ],
      "source": [
        "!pip install optimum-quanto accelerate transformers"
      ]
    },
    {
      "cell_type": "code",
      "execution_count": 1,
      "metadata": {
        "colab": {
          "base_uri": "https://localhost:8080/"
        },
        "id": "nsFCoQ2cMvi9",
        "outputId": "b18a8ad6-1f64-475b-c8a2-b6acfe156ceb"
      },
      "outputs": [
        {
          "name": "stdout",
          "output_type": "stream",
          "text": [
            "W0410 01:06:56.667000 3500 site-packages/torch/distributed/elastic/multiprocessing/redirects.py:29] NOTE: Redirects are currently not supported in Windows or MacOs.\n",
            "Warning: Could not load torchvision operators: dlopen(/Users/wilsonchasteen/Desktop/cosmoCoderV@/coconut/torchvision, 0x0006): tried: '/Users/wilsonchasteen/Desktop/cosmoCoderV@/coconut/torchvision' (no such file), '/System/Volumes/Preboot/Cryptexes/OS/Users/wilsonchasteen/Desktop/cosmoCoderV@/coconut/torchvision' (no such file), '/Users/wilsonchasteen/Desktop/cosmoCoderV@/coconut/torchvision' (no such file)\n",
            "Warning: CUDA is not available; running on CPU\n",
            "Config: {'project': 'coconut', 'save_path': 'YOUR_PATH_TO_SAVE_THE_MODEL', 'name': 'gsm-coconut', 'only_eval': False, 'coconut': True, 'cot': False, 'no_thoughts': False, 'no_cot': False, 'c_thought': 2, 'epochs_per_stage': 3, 'max_latent_stage': 3, 'pad_latent_to_max': True, 'save_only_improve': False, 'uniform_prob': 0.0, 'model_id': 'unsloth/Qwen2.5-7B-Instruct-bnb-4bit', 'load_model_path': 'None', 'seed': 43, 'resume': 3, 'bf16': False, 'train_path': 'data/gsm_train.json', 'val_path': 'data/gsm_valid.json', 'reset_optimizer': True, 'batch_size_training': 4, 'debug': False, 'gradient_accumulation_steps': 1, 'num_epochs': 25, 'lr': 5e-05, 'weight_decay': 0.01}\n",
            "Warning: you want to skip the first 3 but you are not loading any existing checkpoint!\n",
            "Loading from None and skip the first 3 epochs\n",
            "Unused kwargs: ['_load_in_4bit', '_load_in_8bit', 'quant_method']. These kwargs are not used in <class 'transformers.utils.quantization_config.BitsAndBytesConfig'>.\n",
            "[rank0]: Traceback (most recent call last):\n",
            "[rank0]:   File \"/Users/wilsonchasteen/Desktop/cosmoCoderV@/coconut/run.py\", line 541, in <module>\n",
            "[rank0]:     main()\n",
            "[rank0]:   File \"/Users/wilsonchasteen/Desktop/cosmoCoderV@/coconut/run.py\", line 111, in main\n",
            "[rank0]:     model = AutoModelForCausalLM.from_pretrained(configs.model_id, trust_remote_code=True, low_cpu_mem_usage=True, device_map=\"auto\")\n",
            "[rank0]:   File \"/opt/anaconda3/envs/autotrain/lib/python3.10/site-packages/transformers/models/auto/auto_factory.py\", line 564, in from_pretrained\n",
            "[rank0]:     return model_class.from_pretrained(\n",
            "[rank0]:   File \"/opt/anaconda3/envs/autotrain/lib/python3.10/site-packages/transformers/modeling_utils.py\", line 3657, in from_pretrained\n",
            "[rank0]:     hf_quantizer.validate_environment(\n",
            "[rank0]:   File \"/opt/anaconda3/envs/autotrain/lib/python3.10/site-packages/transformers/quantizers/quantizer_bnb_4bit.py\", line 74, in validate_environment\n",
            "[rank0]:     raise ImportError(\n",
            "[rank0]: ImportError: Using `bitsandbytes` 4-bit quantization requires the latest version of bitsandbytes: `pip install -U bitsandbytes`\n",
            "E0410 01:06:58.765000 3500 site-packages/torch/distributed/elastic/multiprocessing/api.py:869] failed (exitcode: 1) local_rank: 0 (pid: 3501) of binary: /opt/anaconda3/envs/autotrain/bin/python\n",
            "Traceback (most recent call last):\n",
            "  File \"/opt/anaconda3/envs/autotrain/bin/torchrun\", line 8, in <module>\n",
            "    sys.exit(main())\n",
            "  File \"/opt/anaconda3/envs/autotrain/lib/python3.10/site-packages/torch/distributed/elastic/multiprocessing/errors/__init__.py\", line 355, in wrapper\n",
            "    return f(*args, **kwargs)\n",
            "  File \"/opt/anaconda3/envs/autotrain/lib/python3.10/site-packages/torch/distributed/run.py\", line 918, in main\n",
            "    run(args)\n",
            "  File \"/opt/anaconda3/envs/autotrain/lib/python3.10/site-packages/torch/distributed/run.py\", line 909, in run\n",
            "    elastic_launch(\n",
            "  File \"/opt/anaconda3/envs/autotrain/lib/python3.10/site-packages/torch/distributed/launcher/api.py\", line 138, in __call__\n",
            "    return launch_agent(self._config, self._entrypoint, list(args))\n",
            "  File \"/opt/anaconda3/envs/autotrain/lib/python3.10/site-packages/torch/distributed/launcher/api.py\", line 269, in launch_agent\n",
            "    raise ChildFailedError(\n",
            "torch.distributed.elastic.multiprocessing.errors.ChildFailedError: \n",
            "============================================================\n",
            "run.py FAILED\n",
            "------------------------------------------------------------\n",
            "Failures:\n",
            "  <NO_OTHER_FAILURES>\n",
            "------------------------------------------------------------\n",
            "Root Cause (first observed failure):\n",
            "[0]:\n",
            "  time      : 2025-04-10_01:06:58\n",
            "  host      : 1.0.0.0.0.0.0.0.0.0.0.0.0.0.0.0.0.0.0.0.0.0.0.0.0.0.0.0.0.0.0.0.ip6.arpa\n",
            "  rank      : 0 (local_rank: 0)\n",
            "  exitcode  : 1 (pid: 3501)\n",
            "  error_file: <N/A>\n",
            "  traceback : To enable traceback see: https://pytorch.org/docs/stable/elastic/errors.html\n",
            "============================================================\n"
          ]
        }
      ],
      "source": [
        "!torchrun run.py args/deep.yaml"
      ]
    }
  ],
  "metadata": {
    "accelerator": "GPU",
    "colab": {
      "gpuType": "T4",
      "provenance": []
    },
    "kernelspec": {
      "display_name": "autotrain",
      "language": "python",
      "name": "python3"
    },
    "language_info": {
      "codemirror_mode": {
        "name": "ipython",
        "version": 3
      },
      "file_extension": ".py",
      "mimetype": "text/x-python",
      "name": "python",
      "nbconvert_exporter": "python",
      "pygments_lexer": "ipython3",
      "version": "3.10.16"
    }
  },
  "nbformat": 4,
  "nbformat_minor": 0
}
